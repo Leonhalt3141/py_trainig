{
 "cells": [
  {
   "cell_type": "markdown",
   "metadata": {},
   "source": [
    "# Python data types\n",
    "* Numeric\n",
    " * Integer\n",
    " * Floating number\n",
    " * Complex number\n",
    "* String\n",
    "* List\n",
    "* Tuple\n",
    "* Dictionary"
   ]
  },
  {
   "cell_type": "markdown",
   "metadata": {},
   "source": [
    "## 1. Integer"
   ]
  },
  {
   "cell_type": "code",
   "execution_count": 26,
   "metadata": {
    "collapsed": false
   },
   "outputs": [
    {
     "name": "stdout",
     "output_type": "stream",
     "text": [
      "100\n",
      "200\n"
     ]
    }
   ],
   "source": [
    "a = 100\n",
    "print a\n",
    "print 2 * 100\n"
   ]
  },
  {
   "cell_type": "markdown",
   "metadata": {},
   "source": [
    "## 2. Floating number"
   ]
  },
  {
   "cell_type": "code",
   "execution_count": 27,
   "metadata": {
    "collapsed": false
   },
   "outputs": [
    {
     "name": "stdout",
     "output_type": "stream",
     "text": [
      "1.234\n"
     ]
    }
   ],
   "source": [
    "b = 1.234\n",
    "print 1. * b"
   ]
  },
  {
   "cell_type": "markdown",
   "metadata": {},
   "source": [
    "## 3. Complex number"
   ]
  },
  {
   "cell_type": "code",
   "execution_count": 28,
   "metadata": {
    "collapsed": false
   },
   "outputs": [
    {
     "name": "stdout",
     "output_type": "stream",
     "text": [
      "(4-2j)\n"
     ]
    }
   ],
   "source": [
    "d = 1 + 2j + 3 - 4j\n",
    "print d"
   ]
  },
  {
   "cell_type": "markdown",
   "metadata": {},
   "source": [
    "## 4. String"
   ]
  },
  {
   "cell_type": "code",
   "execution_count": 29,
   "metadata": {
    "collapsed": false
   },
   "outputs": [
    {
     "name": "stdout",
     "output_type": "stream",
     "text": [
      "HelloPython\n",
      "HelloHelloHello\n",
      "I love\t Python\n",
      "so much\n",
      "enjoy\n",
      "programming Python!\n"
     ]
    }
   ],
   "source": [
    "a = \"Hello\"\n",
    "b = 'Python'\n",
    "print a + b\n",
    "print a * 3\n",
    "c = 'I love\\t Python\\nso much'\n",
    "print c\n",
    "d = \"\"\"enjoy\n",
    "programming Python!\"\"\"\n",
    "print d\n"
   ]
  },
  {
   "cell_type": "markdown",
   "metadata": {},
   "source": [
    "## 5. List"
   ]
  },
  {
   "cell_type": "code",
   "execution_count": 30,
   "metadata": {
    "collapsed": false
   },
   "outputs": [
    {
     "name": "stdout",
     "output_type": "stream",
     "text": [
      "[10, 20, 30, 40, 50]\n",
      "--------\n",
      "10\n",
      "--------\n",
      "[10, 20, 30, 40, 100]\n",
      "--------\n",
      "100\n",
      "40\n",
      "--------\n",
      "['a', 10, 'b', 'c', '30']\n",
      "--------\n",
      "[[1, 2, 3], [4, 5, 6], [7, 8, 9]]\n",
      "--------\n",
      "[1, 2, 3]\n",
      "2\n",
      "--------\n",
      "100\n",
      "200\n"
     ]
    }
   ],
   "source": [
    "list1 = [10, 20, 30, 40, 50]\n",
    "print list1\n",
    "\n",
    "print \"--------\"\n",
    "\n",
    "a = list1[0]\n",
    "print a\n",
    "\n",
    "print \"--------\"\n",
    "\n",
    "list1[4] = 100\n",
    "print list1\n",
    "\n",
    "print \"--------\"\n",
    "\n",
    "print list1[-1]\n",
    "print list1[-2]\n",
    "\n",
    "print \"--------\"\n",
    "\n",
    "list2 = ['a', 10, 'b', 'c', '30']\n",
    "\n",
    "print list2\n",
    "\n",
    "print \"--------\"\n",
    "\n",
    "list3 = [[1, 2, 3], [4, 5, 6], [7, 8, 9]]\n",
    "\n",
    "print list3\n",
    "\n",
    "print \"--------\"\n",
    "\n",
    "print list3[0]\n",
    "print list3[0][1]\n",
    "\n",
    "print \"--------\"\n",
    "\n",
    "[x, y, z] = [100, 200, 300]\n",
    "print x\n",
    "print y"
   ]
  },
  {
   "cell_type": "markdown",
   "metadata": {},
   "source": [
    "## 6. Tuple"
   ]
  },
  {
   "cell_type": "code",
   "execution_count": 31,
   "metadata": {
    "collapsed": false
   },
   "outputs": [
    {
     "name": "stdout",
     "output_type": "stream",
     "text": [
      "1\n",
      "--------\n",
      "(1, 2, 3, 4, 5, 6, 7, 8)\n",
      "(5, 6, 7, 8, 5, 6, 7, 8)\n",
      "--------\n",
      "[1, 2, (3, 4, 5)]\n",
      "--------\n",
      "1\n",
      "2\n",
      "3\n"
     ]
    }
   ],
   "source": [
    "a = (1, 2, 3, 4)\n",
    "print a[0]\n",
    "\n",
    "print \"--------\"\n",
    "\n",
    "b = (5, 6, 7, 8)\n",
    "print a + b\n",
    "print b * 2\n",
    "\n",
    "print \"--------\"\n",
    "\n",
    "d = [1, 2, (3, 4, 5)]\n",
    "print d\n",
    "\n",
    "print \"--------\"\n",
    "\n",
    "c = 1, 2, 3\n",
    "x, y, z = c\n",
    "print x\n",
    "print y\n",
    "print z"
   ]
  },
  {
   "cell_type": "markdown",
   "metadata": {},
   "source": [
    "### What is a difference between List and Tuple?"
   ]
  },
  {
   "cell_type": "code",
   "execution_count": 32,
   "metadata": {
    "collapsed": false
   },
   "outputs": [
    {
     "name": "stdout",
     "output_type": "stream",
     "text": [
      "[1, 2, 10]\n"
     ]
    },
    {
     "ename": "TypeError",
     "evalue": "'tuple' object does not support item assignment",
     "output_type": "error",
     "traceback": [
      "\u001b[0;31m---------------------------------------------------------------------------\u001b[0m",
      "\u001b[0;31mTypeError\u001b[0m                                 Traceback (most recent call last)",
      "\u001b[0;32m<ipython-input-32-b8a09609eaf7>\u001b[0m in \u001b[0;36m<module>\u001b[0;34m()\u001b[0m\n\u001b[1;32m      6\u001b[0m \u001b[0;31m# Tuple\u001b[0m\u001b[0;34m\u001b[0m\u001b[0;34m\u001b[0m\u001b[0m\n\u001b[1;32m      7\u001b[0m \u001b[0mb\u001b[0m \u001b[0;34m=\u001b[0m \u001b[0;34m(\u001b[0m\u001b[0;36m1\u001b[0m\u001b[0;34m,\u001b[0m \u001b[0;36m2\u001b[0m\u001b[0;34m,\u001b[0m \u001b[0;36m3\u001b[0m\u001b[0;34m)\u001b[0m\u001b[0;34m\u001b[0m\u001b[0m\n\u001b[0;32m----> 8\u001b[0;31m \u001b[0mb\u001b[0m\u001b[0;34m[\u001b[0m\u001b[0;34m-\u001b[0m\u001b[0;36m1\u001b[0m\u001b[0;34m]\u001b[0m \u001b[0;34m=\u001b[0m \u001b[0;36m10\u001b[0m\u001b[0;34m\u001b[0m\u001b[0m\n\u001b[0m\u001b[1;32m      9\u001b[0m \u001b[0;32mprint\u001b[0m \u001b[0mb\u001b[0m\u001b[0;34m\u001b[0m\u001b[0m\n",
      "\u001b[0;31mTypeError\u001b[0m: 'tuple' object does not support item assignment"
     ]
    }
   ],
   "source": [
    "# List\n",
    "a = [1, 2, 3]\n",
    "a[-1] = 10\n",
    "print a\n",
    "\n",
    "# Tuple\n",
    "b = (1, 2, 3)\n",
    "b[-1] = 10\n",
    "print b"
   ]
  },
  {
   "cell_type": "markdown",
   "metadata": {},
   "source": [
    "List is **mutable** list object - inside data can be changed  \n",
    "Tuple is **immutable** list object - inside data cannot be changed"
   ]
  },
  {
   "cell_type": "markdown",
   "metadata": {},
   "source": [
    "### Useful function (method) for handling list data"
   ]
  },
  {
   "cell_type": "code",
   "execution_count": 33,
   "metadata": {
    "collapsed": false,
    "scrolled": true
   },
   "outputs": [
    {
     "name": "stdout",
     "output_type": "stream",
     "text": [
      "[10, 20, 30, 40, 50, 60]\n",
      "--------\n",
      "[90, 10, 20, 30, 40, 50, 60]\n",
      "--------\n",
      "[90, 10, 20, 40, 50, 60]\n",
      "[90, 10, 20, 40, 50, 60]\n",
      "[10, 20, 40, 50, 60]\n",
      "[90, 10, 20, 40]\n",
      "[20, 40]\n"
     ]
    }
   ],
   "source": [
    "list1 = [10, 20, 30, 40, 50]\n",
    "# Appending an element to the bottom of the list\n",
    "list1.append(60)\n",
    "print list1\n",
    "\n",
    "print \"--------\"\n",
    "\n",
    "# Inserting an element at an index\n",
    "list1.insert(0, 90)\n",
    "print list1\n",
    "\n",
    "print \"--------\"\n",
    "\n",
    "# Removing an element of the list\n",
    "list1.remove(30)\n",
    "print list1\n",
    "\n",
    "# Slicing the list\n",
    "print list1[:]\n",
    "print list1[1:]\n",
    "print list1[:4]\n",
    "print list1[2:4]\n",
    "list1[2:4] = [3, 4]\n"
   ]
  },
  {
   "cell_type": "markdown",
   "metadata": {},
   "source": [
    "### 7. Dictionary"
   ]
  },
  {
   "cell_type": "code",
   "execution_count": 34,
   "metadata": {
    "collapsed": false,
    "scrolled": true
   },
   "outputs": [
    {
     "name": "stdout",
     "output_type": "stream",
     "text": [
      "10\n",
      "{}\n",
      "{}\n",
      "['foo', 'bar']\n",
      "[10, 20]\n"
     ]
    }
   ],
   "source": [
    "d = {'foo': 10, 'bar': 20}\n",
    "print d['foo']\n",
    "d['foo'] = 100\n",
    "d['foo']\n",
    "d['baz'] = 30\n",
    "\n",
    "# Create an empty dictionary\n",
    "D = dict()\n",
    "print D\n",
    "\n",
    "# Clear dictionary\n",
    "d.clear()\n",
    "print d\n",
    "\n",
    "# Show keys of the dictionary\n",
    "d = {'foo': 10, 'bar': 20}\n",
    "print d.keys()\n",
    "# Return all values in the dictionary\n",
    "print d.values()"
   ]
  },
  {
   "cell_type": "markdown",
   "metadata": {},
   "source": [
    "## Let's use Python libraries"
   ]
  },
  {
   "cell_type": "code",
   "execution_count": 35,
   "metadata": {
    "collapsed": true
   },
   "outputs": [],
   "source": [
    "import numpy as np\n",
    "from math import sin\n",
    "from matplotlib import pyplot as plt\n",
    "# matplotlibを使うおまじない\n",
    "%matplotlib inline"
   ]
  },
  {
   "cell_type": "code",
   "execution_count": 36,
   "metadata": {
    "collapsed": false
   },
   "outputs": [
    {
     "name": "stdout",
     "output_type": "stream",
     "text": [
      "[Showing 9 x 9]\n",
      "[1 2 3 4 5 6 7 8 9]\n",
      "[ 2  4  6  8 10 12 14 16 18]\n",
      "[ 3  6  9 12 15 18 21 24 27]\n",
      "[ 4  8 12 16 20 24 28 32 36]\n",
      "[ 5 10 15 20 25 30 35 40 45]\n",
      "[ 6 12 18 24 30 36 42 48 54]\n",
      "[ 7 14 21 28 35 42 49 56 63]\n",
      "[ 8 16 24 32 40 48 56 64 72]\n",
      "[ 9 18 27 36 45 54 63 72 81]\n",
      "~~~~~~~~~~~~~~~~~~~~~~~~~~~~~~\n",
      "\n",
      "\n"
     ]
    }
   ],
   "source": [
    "## 九九を表示 / Show 9 x 9\n",
    "print \"[Showing 9 x 9]\"\n",
    "A = np.array(range(1, 10))\n",
    "for i in A:\n",
    "    print A * i\n",
    "\n",
    "print \"~~~\" * 10\n",
    "print \"\\n\"\n"
   ]
  },
  {
   "cell_type": "code",
   "execution_count": 37,
   "metadata": {
    "collapsed": false
   },
   "outputs": [
    {
     "name": "stdout",
     "output_type": "stream",
     "text": [
      "[2, 3, 5, 7, 11, 13, 17, 19, 23, 29, 31, 37, 41, 43, 47, 53, 59, 61, 67, 71, 73, 79, 83, 89, 97, 101, 103, 107, 109, 113, 127, 131, 137, 139, 149, 151, 157, 163, 167, 173, 179, 181, 191, 193, 197, 199, 211, 223, 227, 229, 233, 239, 241, 251, 257, 263, 269, 271, 277, 281, 283, 293, 307, 311, 313, 317, 331, 337, 347, 349, 353, 359, 367, 373, 379, 383, 389, 397, 401, 409, 419, 421, 431, 433, 439, 443, 449, 457, 461, 463, 467, 479, 487, 491, 499, 503, 509, 521, 523, 541, 547, 557, 563, 569, 571, 577, 587, 593, 599, 601, 607, 613, 617, 619, 631, 641, 643, 647, 653, 659, 661, 673, 677, 683, 691, 701, 709, 719, 727, 733, 739, 743, 751, 757, 761, 769, 773, 787, 797, 809, 811, 821, 823, 827, 829, 839, 853, 857, 859, 863, 877, 881, 883, 887, 907, 911, 919, 929, 937, 941, 947, 953, 967, 971, 977, 983, 991, 997, 1009, 1013, 1019, 1021, 1031, 1033, 1039, 1049, 1051, 1061, 1063, 1069, 1087, 1091, 1093, 1097, 1103, 1109, 1117, 1123, 1129, 1151, 1153, 1163, 1171, 1181, 1187, 1193, 1201, 1213, 1217, 1223, 1229, 1231, 1237, 1249, 1259, 1277, 1279, 1283, 1289, 1291, 1297, 1301, 1303, 1307, 1319, 1321, 1327, 1361, 1367, 1373, 1381, 1399, 1409, 1423, 1427, 1429, 1433, 1439, 1447, 1451, 1453, 1459, 1471, 1481, 1483, 1487, 1489, 1493, 1499, 1511, 1523, 1531, 1543, 1549, 1553, 1559, 1567, 1571, 1579, 1583, 1597, 1601, 1607, 1609, 1613, 1619, 1621, 1627, 1637, 1657, 1663, 1667, 1669, 1693, 1697, 1699, 1709, 1721, 1723, 1733, 1741, 1747, 1753, 1759, 1777, 1783, 1787, 1789, 1801, 1811, 1823, 1831, 1847, 1861, 1867, 1871, 1873, 1877, 1879, 1889, 1901, 1907, 1913, 1931, 1933, 1949, 1951, 1973, 1979, 1987, 1993, 1997, 1999] 303\n",
      "Times of division: 281802\n"
     ]
    }
   ],
   "source": [
    "def FindPrimeNumbers(N):\n",
    "    counter = 0\n",
    "    primes = []\n",
    "    for n in range(2, N):\n",
    "        isprime = True\n",
    "        for i in range(2, n):\n",
    "            counter += 1\n",
    "            if n % i == 0:\n",
    "                isprime = False\n",
    "                break\n",
    "        if isprime:\n",
    "            primes.append(n)\n",
    "    print primes, len(primes)\n",
    "    print u'Times of division: %d' % counter\n",
    "\n",
    "\n",
    "FindPrimeNumbers(2000)\n"
   ]
  },
  {
   "cell_type": "markdown",
   "metadata": {},
   "source": [
    "### 組み込み関数の復習\n",
    "  \n",
    "**range関数**  \n",
    "range(start, stop, step) で指定されるインデクスの集合を表すスライス(slice)オブジェクトを返す  \n",
    "\n",
    "**len関数**  \n",
    "len(リストオブジェクト)でリストに含まれる要素数を取得する"
   ]
  },
  {
   "cell_type": "markdown",
   "metadata": {},
   "source": [
    "## Numpy配列\n",
    "強力な数学ライブラリ。\n",
    "C言語で開発されているため、処理が高速。  \n",
    "行列演算などが得意で、内積、外積、分散共分散・相関行列、疎行列・・・などが数行で実行できる。  \n",
    "Pythonの高度な数学や機械学習処理は、Numpyを採用している。"
   ]
  },
  {
   "cell_type": "code",
   "execution_count": 38,
   "metadata": {
    "collapsed": false
   },
   "outputs": [
    {
     "name": "stdout",
     "output_type": "stream",
     "text": [
      "0\n",
      "[0 0 1]\n",
      "[[ 1  2  3]\n",
      " [ 4  5  6]\n",
      " [ 7  8  9]\n",
      " [10 11 12]]\n",
      "2\n",
      "(4, 3)\n"
     ]
    }
   ],
   "source": [
    "# Create array\n",
    "v1 = np.array([1,0,0])\n",
    "v2 = np.array([0,1,0])\n",
    "\n",
    "#内積\n",
    "print np.dot(v1,v2) \n",
    "#外積\n",
    "print np.cross(v1,v2)\n",
    "\n",
    "# 2 dimension array\n",
    "B = np.array([[1,2,3],[4,5,6],[7,8,9],[10,11,12]])\n",
    "print B\n",
    "# 次元数\n",
    "print B.ndim\n",
    "print B.shape\n"
   ]
  },
  {
   "cell_type": "markdown",
   "metadata": {},
   "source": [
    "### Figure"
   ]
  },
  {
   "cell_type": "code",
   "execution_count": 39,
   "metadata": {
    "collapsed": false
   },
   "outputs": [
    {
     "data": {
      "image/png": "[encoded data removed]",
      "text/plain": [
       "<matplotlib.figure.Figure at 0x1086f9d90>"
      ]
     },
     "metadata": {},
     "output_type": "display_data"
    }
   ],
   "source": [
    "plt.plot(range(10), range(10))\n",
    "plt.show()"
   ]
  },
  {
   "cell_type": "code",
   "execution_count": 40,
   "metadata": {
    "collapsed": false
   },
   "outputs": [
    {
     "data": {
      "image/png": "[encoded data removed]",
      "text/plain": [
       "<matplotlib.figure.Figure at 0x108650e90>"
      ]
     },
     "metadata": {},
     "output_type": "display_data"
    }
   ],
   "source": [
    "x = np.arange(0, 10, 0.1)\n",
    "y = [sin(i) for i in x]\n",
    "plt.plot(x, y)\n",
    "plt.xlabel(\"x\")\n",
    "plt.ylabel(\"y\")\n",
    "plt.ylim((-1.3, 1.3))\n",
    "plt.title(\"sin(x)\")\n",
    "plt.show()"
   ]
  },
  {
   "cell_type": "markdown",
   "metadata": {},
   "source": [
    "### Pythonでfor文を書いたら負け\n",
    "Pythonはfor文が遅い。  \n",
    "大きな反復回数、2重、3重のfor文を処理すると時間がかかる。  \n",
    "しかし、反復処理はプログラミングの基本処理である。\n",
    "そこで、PythonではList for文が用意されている。\n",
    "\n",
    "**List for文の作成方法**  \n",
    "[処理 for i in スライスオブジェクト]"
   ]
  },
  {
   "cell_type": "code",
   "execution_count": 41,
   "metadata": {
    "collapsed": false
   },
   "outputs": [
    {
     "name": "stdout",
     "output_type": "stream",
     "text": [
      "[1, 2, 3, 4, 5, 6, 7, 8, 9, 10, 11, 12, 13, 14, 15, 16, 17, 18, 19, 20, 21, 22, 23, 24, 25, 26, 27, 28, 29, 30, 31, 32, 33, 34, 35, 36, 37, 38, 39, 40, 41, 42, 43, 44, 45, 46, 47, 48, 49, 50, 51, 52, 53, 54, 55, 56, 57, 58, 59, 60, 61, 62, 63, 64, 65, 66, 67, 68, 69, 70, 71, 72, 73, 74, 75, 76, 77, 78, 79, 80, 81, 82, 83, 84, 85, 86, 87, 88, 89, 90, 91, 92, 93, 94, 95, 96, 97, 98, 99, 100]\n"
     ]
    }
   ],
   "source": [
    "print [i + 1 for i in range(100)]"
   ]
  },
  {
   "cell_type": "code",
   "execution_count": null,
   "metadata": {
    "collapsed": true
   },
   "outputs": [],
   "source": []
  }
 ],
 "metadata": {
  "kernelspec": {
   "display_name": "Python 2",
   "language": "python",
   "name": "python2"
  },
  "language_info": {
   "codemirror_mode": {
    "name": "ipython",
    "version": 2
   },
   "file_extension": ".py",
   "mimetype": "text/x-python",
   "name": "python",
   "nbconvert_exporter": "python",
   "pygments_lexer": "ipython2",
   "version": "2.7.9"
  }
 },
 "nbformat": 4,
 "nbformat_minor": 0
}
